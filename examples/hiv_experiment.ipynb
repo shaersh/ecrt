{
 "cells": [
  {
   "cell_type": "markdown",
   "source": [
    "# HIV drug Experiment\n",
    "In this notebook we apply our e-CRT algorithm to the HIV data set,\n",
    "available in [https://hivdb.stanford.edu/dr-summary/comments/PI/](https://hivdb.stanford.edu/dr-summary/comments/PI/).\n",
    "\n",
    "In conditional independence problems, given data $X\\in \\mathbb{R}^{n\\times d}$ and a response $Y\\in\\mathbb{R}^n$,\n",
    "the null hypothesis is:\n",
    "\n",
    "$H_0: X_j \\perp \\!\\!\\! \\perp Y \\mid X_{-j} $\n",
    "\n",
    "Where $X_j$ is the j-th feature, and $ X_{-j}$ are all the features except the j-th one.\n",
    "\n",
    "In our test, a crucial step is to sample the dummy features from the\n",
    "conditional distribution of $X_{j}\\mid X_{-j}$. Yet, in many real-world applications,\n",
    "this distribution may not be known.\n",
    "In our code we provide an estimation for the conditional distribution by fitting a multivariate Gaussian,\n",
    "and demonstrate the performance using this approximation both with [synthetic data](examples/synthetic_experiment.ipynb)\n",
    "and with [real data](examples/fund_experiment.ipynb).\n",
    "\n",
    "In this experiment we will examine a case in which the conditional distribution can not be estimated\n",
    "using a multivariate Gaussian, and demonstrate how the user can provide a function of its own\n",
    "to sample the dummies."
   ],
   "metadata": {
    "collapsed": false
   }
  },
  {
   "cell_type": "code",
   "execution_count": 5,
   "metadata": {
    "collapsed": true
   },
   "outputs": [],
   "source": [
    "import pandas as pd\n",
    "import numpy as np\n",
    "from data.data import get_hiv_data, get_hiv_clf\n",
    "from src.e_crt import EcrtTester\n",
    "from src.sampling_functions import sample_hiv_data\n",
    "from src.utils import BettingFunction, get_martingale_values"
   ]
  },
  {
   "cell_type": "markdown",
   "source": [
    "This data set consists of $n=1555$ time steps, each with $d=150$ features.\n",
    "In this data the features are binary, therefore we sample the dummy features from\n",
    "a Bernoulli distribution. Since the data size is relatively small, we estimate the\n",
    "probability of the Bernoulli distribution by training a logistic regression model\n",
    "on the **entire** data, as we will see next.\n",
    "\n",
    "In this notebook we test the algorithm on the same $3$ features presented in the paper.\n",
    "\n",
    "In order to improve robustness, in all our real-data experiments we chose to use $tanh(20 \\cdot())$\n",
    "as our betting function, and to use a batch ensemble with batches $[5, 10, 20]$.\n",
    "\n",
    "In addition, we use offline learning (using LassoCV) to improve the accuracy of the\n",
    "learning model."
   ],
   "metadata": {
    "collapsed": false
   }
  },
  {
   "cell_type": "code",
   "execution_count": 6,
   "outputs": [],
   "source": [
    "np.random.seed(0)\n",
    "j_vec = [10, 61, 62]\n",
    "batch_list = [5, 10, 20]\n",
    "n_init = 20\n",
    "offline=True\n",
    "g_func = BettingFunction.tanh\n",
    "sampling_func = sample_hiv_data\n",
    "save_path = \"./results/HIV\"\n",
    "X, Y, features_names = get_hiv_data()"
   ],
   "metadata": {
    "collapsed": false,
    "pycharm": {
     "name": "#%%\n"
    }
   }
  },
  {
   "cell_type": "markdown",
   "source": [
    "There are 3 input variables that we need to provide in order to change the sampling function\n",
    "for the dummy features.\n",
    "1. *sampling_func* -  this function receives the original sample (all the features),\n",
    "the index of the tested feature, and any additional input you may need in order\n",
    "to generate the dummies. The function returns a copy of the original sample, with the j-th feature\n",
    "replaced by the dummy feature.\n",
    "In our case, this function receives the original sample $X$, the index of\n",
    "the tested feature $j$, and a classifier that was trained on $X_{-j}$ to predict\n",
    "$X_j$.\n",
    "The classifier is passed to the sampling function using a dictionary: *sampling_args*.\n",
    "2. *sampling_args* - a dictionary with all the information that we wish to pass to\n",
    "the sampling function, and that is available to us at the **beginning** of the test.\n",
    "In this experiment we trained the classifier using the entire data set, and therefore\n",
    "we can pass it using this dictionary. If we trained this classifier online, using\n",
    "only the available data at each time step, we would use the function *learn_conditional_distribution*.\n",
    "3. *learn_conditional_distribution* - this function gets the data available at time $t$,\n",
    "and returns a dictionary of variables to pass to *sampling_func*, along with *sampling_args*.\n",
    "In this experiment we do not have any learned variables to pass, therefore the function we use\n",
    "returns an empty dictionary."
   ],
   "metadata": {
    "collapsed": false,
    "pycharm": {
     "name": "#%% md\n"
    }
   }
  },
  {
   "cell_type": "code",
   "execution_count": 7,
   "outputs": [],
   "source": [
    "results_dict = {\n",
    "    \"idx\": j_vec,\n",
    "    \"name\": features_names[j_vec],\n",
    "    \"martingale\": [],\n",
    "    \"effective n\": []\n",
    "                }\n",
    "\n",
    "for j in j_vec:\n",
    "    sampling_args = {\"clf\": get_hiv_clf(X, j)}\n",
    "    ecrt_tester = EcrtTester(batch_list=batch_list,\n",
    "                             j=j,\n",
    "                             g_func=g_func,\n",
    "                             n_init=n_init,\n",
    "                             offline=offline,\n",
    "                             sampling_func=sampling_func,\n",
    "                             sampling_args=sampling_args,\n",
    "                             learn_conditional_distribution=lambda x: {},\n",
    "                             path=f\"{save_path}/feature_{j}\")\n",
    "    rejected = ecrt_tester.run(X, Y)\n",
    "    martingale, neff = get_martingale_values(ecrt_tester.martingale_dict)\n",
    "    results_dict[\"martingale\"].append(martingale)\n",
    "    results_dict[\"effective n\"].append(neff)\n",
    "    ecrt_tester.save_martingales()"
   ],
   "metadata": {
    "collapsed": false,
    "pycharm": {
     "name": "#%%\n"
    }
   }
  },
  {
   "cell_type": "markdown",
   "source": [
    "As we presented in the paper, for the first tested feature, named \"X.12S\", which was not\n",
    "reported by specialists to affect the drug resistance, the test martingale does not grow.\n",
    "On the other hand, the test martingale rejects the null for mutation \"X.47V\", a mutation\n",
    "that was reported as major, after only 260 time steps used.\n",
    "Mutation \"X.48M\" is also labeled as major, and was not classified as such by the test martingale.\n",
    "Yet, the test martingale reached an e-value of 8.5, and while it is not enough to safely reject\n",
    "the null, it indicates a substantial evidence against it."
   ],
   "metadata": {
    "collapsed": false,
    "pycharm": {
     "name": "#%% md\n"
    }
   }
  },
  {
   "cell_type": "code",
   "execution_count": 8,
   "outputs": [
    {
     "data": {
      "text/plain": "   idx   name  martingale  effective n\n0   10  X.12S    1.035570         1555\n1   61  X.47V   20.786002          260\n2   62  X.48M    8.536322         1555",
      "text/html": "<div>\n<style scoped>\n    .dataframe tbody tr th:only-of-type {\n        vertical-align: middle;\n    }\n\n    .dataframe tbody tr th {\n        vertical-align: top;\n    }\n\n    .dataframe thead th {\n        text-align: right;\n    }\n</style>\n<table border=\"1\" class=\"dataframe\">\n  <thead>\n    <tr style=\"text-align: right;\">\n      <th></th>\n      <th>idx</th>\n      <th>name</th>\n      <th>martingale</th>\n      <th>effective n</th>\n    </tr>\n  </thead>\n  <tbody>\n    <tr>\n      <th>0</th>\n      <td>10</td>\n      <td>X.12S</td>\n      <td>1.035570</td>\n      <td>1555</td>\n    </tr>\n    <tr>\n      <th>1</th>\n      <td>61</td>\n      <td>X.47V</td>\n      <td>20.786002</td>\n      <td>260</td>\n    </tr>\n    <tr>\n      <th>2</th>\n      <td>62</td>\n      <td>X.48M</td>\n      <td>8.536322</td>\n      <td>1555</td>\n    </tr>\n  </tbody>\n</table>\n</div>"
     },
     "execution_count": 8,
     "metadata": {},
     "output_type": "execute_result"
    }
   ],
   "source": [
    "pd.DataFrame(results_dict)"
   ],
   "metadata": {
    "collapsed": false,
    "pycharm": {
     "name": "#%%\n"
    }
   }
  }
 ],
 "metadata": {
  "kernelspec": {
   "display_name": "Python 3",
   "language": "python",
   "name": "python3"
  },
  "language_info": {
   "codemirror_mode": {
    "name": "ipython",
    "version": 2
   },
   "file_extension": ".py",
   "mimetype": "text/x-python",
   "name": "python",
   "nbconvert_exporter": "python",
   "pygments_lexer": "ipython2",
   "version": "2.7.6"
  }
 },
 "nbformat": 4,
 "nbformat_minor": 0
}