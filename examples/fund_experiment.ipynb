{
 "cells": [
  {
   "cell_type": "markdown",
   "source": [
    "# Fund Replication Experiment\n",
    "In this notebook we demonstrate sequential testing using our algorithm, by applying it to a “fund replication” dataset.\n",
    "The code we used for downloading the data is available [here](https://github.com/amspector100/mlr_knockoff_paper/blob/main/real_data/fund_rep.py)."
   ],
   "metadata": {
    "collapsed": false,
    "pycharm": {
     "name": "#%% md\n"
    }
   }
  },
  {
   "cell_type": "code",
   "execution_count": 1,
   "outputs": [],
   "source": [
    "import pandas as pd\n",
    "from data.data import read_log_sector_data\n",
    "from src.e_crt import EcrtTester\n",
    "from src.utils import BettingFunction, get_martingale_values"
   ],
   "metadata": {
    "collapsed": false,
    "pycharm": {
     "name": "#%%\n"
    }
   }
  },
  {
   "cell_type": "markdown",
   "source": [
    "In this experiment, as in the paper, we chose to run the algorithm on a technology sector\n",
    "index fund, named XLK.\n",
    "We downloaded the data available from August 2013 until September 2022, and got $n=2421$ time steps,\n",
    "each sample corresponds to a different trading day.\n",
    "For the feature importance we used the current S&P 500 information; the\n",
    "[file](../data/data_imp_XLK_Information%20Technology_Open_10.csv) is available under the data folder.\n",
    "The [features](../data/xdata_XLK_Information%20Technology_Open_10.csv) and the\n",
    "[labels](../data/ydata_XLK_Information%20Technology_Open_10.csv) files are also  inside the data folder.\n",
    "\n",
    "After deleting features with missing information, we ended up with $457$ features.\n",
    "In this notebook we test the algorithm on $10$ features we thought represent the performance appropriately.\n",
    "\n",
    "Since we have $457$ features, we chose $n_{init}=500$ (the default is $50$).\n",
    "\n",
    "In order to improve robustness, in all our real-data experiments we chose to use $tanh(20 \\cdot())$\n",
    "as our betting function, and to use a batch ensemble with batches $[5, 10, 20]$."
   ],
   "metadata": {
    "collapsed": false,
    "pycharm": {
     "name": "#%% md\n"
    }
   }
  },
  {
   "cell_type": "code",
   "execution_count": null,
   "outputs": [],
   "source": [
    "j_vec = [3, 26, 136, 173, 183, 238, 286, 296, 344, 404]\n",
    "batch_list = [5, 10, 20]\n",
    "n_init = 500\n",
    "g_func = BettingFunction.tanh"
   ],
   "metadata": {
    "collapsed": false,
    "pycharm": {
     "name": "#%%\n"
    }
   }
  },
  {
   "cell_type": "markdown",
   "source": [
    "In order to explain the sequential testing, we first use the data from August 2013 until September **2021**.\n",
    "In the first run we have $n=2169$ time steps.\n"
   ],
   "metadata": {
    "collapsed": false,
    "pycharm": {
     "name": "#%% md\n"
    }
   }
  },
  {
   "cell_type": "code",
   "execution_count": null,
   "outputs": [],
   "source": [
    "save_path = \"./results/fund_replication\"\n",
    "save_name=\"martingale_dict_sep21\"\n",
    "X, Y, beta, features_names = read_log_sector_data(date=\"2021-09-21\")"
   ],
   "metadata": {
    "collapsed": false,
    "pycharm": {
     "name": "#%%\n"
    }
   }
  },
  {
   "cell_type": "markdown",
   "source": [
    "For **each** feature we run a separate test and save whether the feature was rejected or not.\n",
    "Since we wish to continue the test using the data from September 2021 until today, we also save the\n",
    "martingales at the end of each run."
   ],
   "metadata": {
    "collapsed": false,
    "pycharm": {
     "name": "#%% md\n"
    }
   }
  },
  {
   "cell_type": "code",
   "execution_count": 3,
   "outputs": [],
   "source": [
    "results_dict = {\n",
    "    \"idx\": j_vec,\n",
    "    \"name\": features_names[j_vec],\n",
    "    \"important\": beta[j_vec],\n",
    "    \"martingale\": [],\n",
    "    \"effective n\": [],\n",
    "    \"rejected\": []\n",
    "                }\n",
    "\n",
    "for j in j_vec:\n",
    "    ecrt_tester = EcrtTester(batch_list=batch_list,\n",
    "                             j=j,\n",
    "                             g_func=g_func,\n",
    "                             n_init=n_init,\n",
    "                             save_name=save_name,\n",
    "                             load_name=\"\",\n",
    "                             path=f\"{save_path}/feature_{j}_{features_names[j]}\")\n",
    "    rejected = ecrt_tester.run(X, Y)\n",
    "    martingale, neff = get_martingale_values(ecrt_tester.martingale_dict)\n",
    "    results_dict[\"martingale\"].append(martingale)\n",
    "    results_dict[\"effective n\"].append(neff)\n",
    "    results_dict[\"rejected\"].append(rejected)\n",
    "    ecrt_tester.save_martingales()"
   ],
   "metadata": {
    "collapsed": false,
    "pycharm": {
     "name": "#%%\n"
    }
   }
  },
  {
   "cell_type": "markdown",
   "source": [
    "We can observe that out of 5 important features, only 2 were detected as such by the test. We can also see that out of 5\n",
    "unimportant features, 1 feature was falsely rejected; the Google stock."
   ],
   "metadata": {
    "collapsed": false,
    "pycharm": {
     "name": "#%% md\n"
    }
   }
  },
  {
   "cell_type": "code",
   "execution_count": 4,
   "outputs": [
    {
     "data": {
      "text/plain": "   idx   name  important  martingale  effective n  rejected\n0    3   AAPL          1   83.232649          580      True\n1   26   AMAT          1   10.346207         2169     False\n2  136   EBAY          0    0.736875         2169     False\n3  173   FTNT          1   10.644899         2169     False\n4  183  GOOGL          0   25.355105         1120      True\n5  238     KO          0    0.259894         2169     False\n6  286   MSFT          1   26.608006          560      True\n7  296   NFLX          0    3.430329         2169     False\n8  344    PTC          1    1.152892         2169     False\n9  404   TSLA          0    1.620387         2169     False",
      "text/html": "<div>\n<style scoped>\n    .dataframe tbody tr th:only-of-type {\n        vertical-align: middle;\n    }\n\n    .dataframe tbody tr th {\n        vertical-align: top;\n    }\n\n    .dataframe thead th {\n        text-align: right;\n    }\n</style>\n<table border=\"1\" class=\"dataframe\">\n  <thead>\n    <tr style=\"text-align: right;\">\n      <th></th>\n      <th>idx</th>\n      <th>name</th>\n      <th>important</th>\n      <th>martingale</th>\n      <th>effective n</th>\n      <th>rejected</th>\n    </tr>\n  </thead>\n  <tbody>\n    <tr>\n      <th>0</th>\n      <td>3</td>\n      <td>AAPL</td>\n      <td>1</td>\n      <td>83.232649</td>\n      <td>580</td>\n      <td>True</td>\n    </tr>\n    <tr>\n      <th>1</th>\n      <td>26</td>\n      <td>AMAT</td>\n      <td>1</td>\n      <td>10.346207</td>\n      <td>2169</td>\n      <td>False</td>\n    </tr>\n    <tr>\n      <th>2</th>\n      <td>136</td>\n      <td>EBAY</td>\n      <td>0</td>\n      <td>0.736875</td>\n      <td>2169</td>\n      <td>False</td>\n    </tr>\n    <tr>\n      <th>3</th>\n      <td>173</td>\n      <td>FTNT</td>\n      <td>1</td>\n      <td>10.644899</td>\n      <td>2169</td>\n      <td>False</td>\n    </tr>\n    <tr>\n      <th>4</th>\n      <td>183</td>\n      <td>GOOGL</td>\n      <td>0</td>\n      <td>25.355105</td>\n      <td>1120</td>\n      <td>True</td>\n    </tr>\n    <tr>\n      <th>5</th>\n      <td>238</td>\n      <td>KO</td>\n      <td>0</td>\n      <td>0.259894</td>\n      <td>2169</td>\n      <td>False</td>\n    </tr>\n    <tr>\n      <th>6</th>\n      <td>286</td>\n      <td>MSFT</td>\n      <td>1</td>\n      <td>26.608006</td>\n      <td>560</td>\n      <td>True</td>\n    </tr>\n    <tr>\n      <th>7</th>\n      <td>296</td>\n      <td>NFLX</td>\n      <td>0</td>\n      <td>3.430329</td>\n      <td>2169</td>\n      <td>False</td>\n    </tr>\n    <tr>\n      <th>8</th>\n      <td>344</td>\n      <td>PTC</td>\n      <td>1</td>\n      <td>1.152892</td>\n      <td>2169</td>\n      <td>False</td>\n    </tr>\n    <tr>\n      <th>9</th>\n      <td>404</td>\n      <td>TSLA</td>\n      <td>0</td>\n      <td>1.620387</td>\n      <td>2169</td>\n      <td>False</td>\n    </tr>\n  </tbody>\n</table>\n</div>"
     },
     "execution_count": 4,
     "metadata": {},
     "output_type": "execute_result"
    }
   ],
   "source": [
    "pd.DataFrame(results_dict)"
   ],
   "metadata": {
    "collapsed": false,
    "pycharm": {
     "name": "#%%\n"
    }
   }
  },
  {
   "cell_type": "markdown",
   "source": [
    "Now we want to use the new data, from September 2021 until September 2022.\n",
    "We want to continue the test from the point we stopped, so we load the martingales we saved after the first run.\n",
    "In order to load new martingales, one should simply provide a **\"load_name\"** to the input.\n",
    "In order to continue from the previous point, we should also send a **\"start_idx\"** to the *run* method.\n",
    "Note that we send the full dataset ($2421$ samples), and not only the data from the last year.\n",
    "The old data will not be used to update the martingales, but it will be used to train the learning model."
   ],
   "metadata": {
    "collapsed": false,
    "pycharm": {
     "name": "#%% md\n"
    }
   }
  },
  {
   "cell_type": "code",
   "execution_count": null,
   "outputs": [],
   "source": [
    "load_name=\"martingale_dict_sep21\"\n",
    "save_name=\"martingale_dict_sep22\"\n",
    "X, Y, beta, features_names = read_log_sector_data(date=\"2022-09-21\")\n",
    "results_dict[\"new martingale\"] = []\n",
    "results_dict[\"new effective n\"] = []\n",
    "\n",
    "for ii, j in enumerate(j_vec):\n",
    "    ecrt_tester = EcrtTester(batch_list=batch_list,\n",
    "                             j=j,\n",
    "                             g_func=g_func,\n",
    "                             n_init=n_init,\n",
    "                             save_name=save_name,\n",
    "                             load_name=load_name,\n",
    "                             path=f\"{save_path}/feature_{j}_{features_names[j]}\")\n",
    "    if not results_dict[\"rejected\"][ii]:\n",
    "        rejected = ecrt_tester.run(X, Y, start_idx=results_dict[\"effective n\"][ii])\n",
    "        results_dict[\"rejected\"][ii] = rejected\n",
    "    martingale, neff = get_martingale_values(ecrt_tester.martingale_dict)\n",
    "    results_dict[\"new martingale\"].append(martingale)\n",
    "    results_dict[\"new effective n\"].append(neff)\n",
    "    ecrt_tester.save_martingales()"
   ],
   "metadata": {
    "collapsed": false,
    "pycharm": {
     "name": "#%%\n"
    }
   }
  },
  {
   "cell_type": "markdown",
   "source": [
    "After the second run, we can observe that now 4 out of 5 important features were rejected."
   ],
   "metadata": {
    "collapsed": false,
    "pycharm": {
     "name": "#%% md\n"
    }
   }
  },
  {
   "cell_type": "code",
   "execution_count": 21,
   "outputs": [
    {
     "data": {
      "text/plain": "   idx   name  important  martingale  effective n  rejected  new martingale  \\\n0    3   AAPL          1   83.232649          580      True       83.232649   \n1   26   AMAT          1   10.346207         2169      True       27.038178   \n2  136   EBAY          0    0.736875         2169     False        1.244609   \n3  173   FTNT          1   10.644899         2169      True       20.531884   \n4  183  GOOGL          0   25.355105         1120      True       25.355105   \n5  238     KO          0    0.259894         2169     False        0.279492   \n6  286   MSFT          1   26.608006          560      True       26.608006   \n7  296   NFLX          0    3.430329         2169     False        4.630110   \n8  344    PTC          1    1.152892         2169     False        0.502565   \n9  404   TSLA          0    1.620387         2169     False        1.660369   \n\n   new effective n  \n0              580  \n1             2309  \n2             2421  \n3             2229  \n4             1120  \n5             2421  \n6              560  \n7             2421  \n8             2421  \n9             2421  ",
      "text/html": "<div>\n<style scoped>\n    .dataframe tbody tr th:only-of-type {\n        vertical-align: middle;\n    }\n\n    .dataframe tbody tr th {\n        vertical-align: top;\n    }\n\n    .dataframe thead th {\n        text-align: right;\n    }\n</style>\n<table border=\"1\" class=\"dataframe\">\n  <thead>\n    <tr style=\"text-align: right;\">\n      <th></th>\n      <th>idx</th>\n      <th>name</th>\n      <th>important</th>\n      <th>martingale</th>\n      <th>effective n</th>\n      <th>rejected</th>\n      <th>new martingale</th>\n      <th>new effective n</th>\n    </tr>\n  </thead>\n  <tbody>\n    <tr>\n      <th>0</th>\n      <td>3</td>\n      <td>AAPL</td>\n      <td>1</td>\n      <td>83.232649</td>\n      <td>580</td>\n      <td>True</td>\n      <td>83.232649</td>\n      <td>580</td>\n    </tr>\n    <tr>\n      <th>1</th>\n      <td>26</td>\n      <td>AMAT</td>\n      <td>1</td>\n      <td>10.346207</td>\n      <td>2169</td>\n      <td>True</td>\n      <td>27.038178</td>\n      <td>2309</td>\n    </tr>\n    <tr>\n      <th>2</th>\n      <td>136</td>\n      <td>EBAY</td>\n      <td>0</td>\n      <td>0.736875</td>\n      <td>2169</td>\n      <td>False</td>\n      <td>1.244609</td>\n      <td>2421</td>\n    </tr>\n    <tr>\n      <th>3</th>\n      <td>173</td>\n      <td>FTNT</td>\n      <td>1</td>\n      <td>10.644899</td>\n      <td>2169</td>\n      <td>True</td>\n      <td>20.531884</td>\n      <td>2229</td>\n    </tr>\n    <tr>\n      <th>4</th>\n      <td>183</td>\n      <td>GOOGL</td>\n      <td>0</td>\n      <td>25.355105</td>\n      <td>1120</td>\n      <td>True</td>\n      <td>25.355105</td>\n      <td>1120</td>\n    </tr>\n    <tr>\n      <th>5</th>\n      <td>238</td>\n      <td>KO</td>\n      <td>0</td>\n      <td>0.259894</td>\n      <td>2169</td>\n      <td>False</td>\n      <td>0.279492</td>\n      <td>2421</td>\n    </tr>\n    <tr>\n      <th>6</th>\n      <td>286</td>\n      <td>MSFT</td>\n      <td>1</td>\n      <td>26.608006</td>\n      <td>560</td>\n      <td>True</td>\n      <td>26.608006</td>\n      <td>560</td>\n    </tr>\n    <tr>\n      <th>7</th>\n      <td>296</td>\n      <td>NFLX</td>\n      <td>0</td>\n      <td>3.430329</td>\n      <td>2169</td>\n      <td>False</td>\n      <td>4.630110</td>\n      <td>2421</td>\n    </tr>\n    <tr>\n      <th>8</th>\n      <td>344</td>\n      <td>PTC</td>\n      <td>1</td>\n      <td>1.152892</td>\n      <td>2169</td>\n      <td>False</td>\n      <td>0.502565</td>\n      <td>2421</td>\n    </tr>\n    <tr>\n      <th>9</th>\n      <td>404</td>\n      <td>TSLA</td>\n      <td>0</td>\n      <td>1.620387</td>\n      <td>2169</td>\n      <td>False</td>\n      <td>1.660369</td>\n      <td>2421</td>\n    </tr>\n  </tbody>\n</table>\n</div>"
     },
     "execution_count": 21,
     "metadata": {},
     "output_type": "execute_result"
    }
   ],
   "source": [
    "pd.DataFrame(results_dict)\n"
   ],
   "metadata": {
    "collapsed": false,
    "pycharm": {
     "name": "#%%\n"
    }
   }
  }
 ],
 "metadata": {
  "kernelspec": {
   "display_name": "Python 3",
   "language": "python",
   "name": "python3"
  },
  "language_info": {
   "codemirror_mode": {
    "name": "ipython",
    "version": 2
   },
   "file_extension": ".py",
   "mimetype": "text/x-python",
   "name": "python",
   "nbconvert_exporter": "python",
   "pygments_lexer": "ipython2",
   "version": "2.7.6"
  }
 },
 "nbformat": 4,
 "nbformat_minor": 0
}